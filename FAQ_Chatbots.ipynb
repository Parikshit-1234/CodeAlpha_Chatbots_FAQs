{
 "cells": [
  {
   "cell_type": "markdown",
   "id": "c44d74d0-f873-45c3-832f-575691794ec1",
   "metadata": {},
   "source": [
    "# Name - Parikshit Sahu\n",
    "## Code alpha internship task 2\n",
    "## Chatbots for FAQs"
   ]
  },
  {
   "cell_type": "code",
   "execution_count": 2,
   "id": "449657be-87c7-4fce-943a-3cd6754b1c89",
   "metadata": {},
   "outputs": [
    {
     "name": "stderr",
     "output_type": "stream",
     "text": [
      "[nltk_data] Downloading package punkt to\n",
      "[nltk_data]     C:\\Users\\sahup\\AppData\\Roaming\\nltk_data...\n",
      "[nltk_data]   Package punkt is already up-to-date!\n"
     ]
    },
    {
     "data": {
      "text/plain": [
       "True"
      ]
     },
     "execution_count": 2,
     "metadata": {},
     "output_type": "execute_result"
    }
   ],
   "source": [
    "import nltk\n",
    "nltk.download('punkt')\n"
   ]
  },
  {
   "cell_type": "code",
   "execution_count": 22,
   "id": "c6b0f5b1-0eb8-44ed-97ba-52544edb0b14",
   "metadata": {},
   "outputs": [
    {
     "name": "stdout",
     "output_type": "stream",
     "text": [
      " * Serving Flask app '__main__'\n"
     ]
    },
    {
     "name": "stderr",
     "output_type": "stream",
     "text": [
      "127.0.0.1 - - [18/Sep/2024 10:34:28] \"POST /ask HTTP/1.1\" 200 -\n"
     ]
    },
    {
     "name": "stdout",
     "output_type": "stream",
     "text": [
      " * Debug mode: off\n"
     ]
    },
    {
     "name": "stderr",
     "output_type": "stream",
     "text": [
      "127.0.0.1 - - [18/Sep/2024 10:34:28] \"POST /ask HTTP/1.1\" 200 -\n",
      "127.0.0.1 - - [18/Sep/2024 10:34:28] \"POST /ask HTTP/1.1\" 200 -\n",
      "WARNING: This is a development server. Do not use it in a production deployment. Use a production WSGI server instead.\n",
      " * Running on http://127.0.0.1:5005\n",
      "Press CTRL+C to quit\n",
      "127.0.0.1 - - [18/Sep/2024 10:34:28] \"POST /ask HTTP/1.1\" 200 -\n",
      "127.0.0.1 - - [18/Sep/2024 10:34:28] \"POST /ask HTTP/1.1\" 200 -\n",
      "127.0.0.1 - - [18/Sep/2024 10:34:28] \"POST /ask HTTP/1.1\" 200 -\n",
      "127.0.0.1 - - [18/Sep/2024 10:34:28] \"POST /ask HTTP/1.1\" 200 -\n",
      "127.0.0.1 - - [18/Sep/2024 10:34:28] \"POST /ask HTTP/1.1\" 200 -\n",
      "127.0.0.1 - - [18/Sep/2024 10:34:28] \"POST /ask HTTP/1.1\" 200 -\n"
     ]
    },
    {
     "name": "stdout",
     "output_type": "stream",
     "text": [
      "Q: How long does shipping take?\n",
      "A: Shipping usually takes 3-5 business days.\n",
      "\n",
      "Q: Do you ship internationally?\n",
      "A: Yes, we offer international shipping.\n",
      "\n",
      "Q: What payment methods do you accept?\n",
      "A: We accept credit cards, PayPal, and Apple Pay.\n",
      "\n",
      "Q: How can I contact customer support?\n",
      "A: You can reach us via email at support@example.com.\n",
      "\n",
      "Q: What is your privacy policy?\n",
      "A: We value your privacy and are committed to protecting your personal information.\n",
      "\n",
      "Q: Can I change my order after placing it?\n",
      "A: If you need to change your order, please contact us within one hour of placing it.\n",
      "\n",
      "Q: What should I do if I received a damaged item?\n",
      "A: Please contact our customer support team within 48 hours for assistance.\n",
      "\n",
      "Q: Do you offer gift cards?\n",
      "A: Yes, we offer gift cards that can be purchased directly from our website.\n",
      "\n",
      "Q: How do I create an account?\n",
      "A: To create an account, click on the 'Sign Up' button on our homepage.\n",
      "\n"
     ]
    },
    {
     "name": "stderr",
     "output_type": "stream",
     "text": [
      "127.0.0.1 - - [18/Sep/2024 10:34:28] \"POST /ask HTTP/1.1\" 200 -\n",
      "127.0.0.1 - - [18/Sep/2024 10:34:28] \"POST /ask HTTP/1.1\" 200 -\n"
     ]
    },
    {
     "name": "stdout",
     "output_type": "stream",
     "text": [
      "Q: What are your business hours?\n",
      "A: Our customer support team is available Monday to Friday, from 9 AM to 5 PM (EST).\n",
      "\n"
     ]
    },
    {
     "name": "stderr",
     "output_type": "stream",
     "text": [
      "127.0.0.1 - - [18/Sep/2024 10:34:28] \"POST /ask HTTP/1.1\" 200 -\n",
      "127.0.0.1 - - [18/Sep/2024 10:34:28] \"POST /ask HTTP/1.1\" 200 -\n",
      "127.0.0.1 - - [18/Sep/2024 10:34:28] \"POST /ask HTTP/1.1\" 200 -\n"
     ]
    },
    {
     "name": "stdout",
     "output_type": "stream",
     "text": [
      "Q: Can I track my order?\n",
      "A: Yes, you will receive a tracking number via email once your order has shipped.\n",
      "\n",
      "Q: Do you have a loyalty program?\n",
      "A: Yes, we have a loyalty program that rewards you for your purchases.\n",
      "\n",
      "Q: What happens if an item is out of stock?\n",
      "A: You can sign up for notifications on our website for out-of-stock items.\n",
      "\n",
      "Q: How do I reset my password?\n",
      "A: To reset your password, go to the login page and click on 'Forgot Password?'.\n",
      "\n"
     ]
    }
   ],
   "source": [
    "import threading\n",
    "from flask import Flask, request, jsonify\n",
    "import nltk\n",
    "from nltk.tokenize import word_tokenize\n",
    "\n",
    "# Sample FAQ data\n",
    "faq_data = {\n",
    "    \"What is your return policy?\": \"You can return any item within 30 days for a full refund.\",\n",
    "    \"How long does shipping take?\": \"Shipping usually takes 3-5 business days.\",\n",
    "    \"Do you ship internationally?\": \"Yes, we offer international shipping.\",\n",
    "    \"What payment methods do you accept?\": \"We accept credit cards, PayPal, and Apple Pay.\",\n",
    "    \"How can I contact customer support?\": \"You can reach us via email at support@example.com.\",\n",
    "    \"What is your privacy policy?\": \"We value your privacy and are committed to protecting your personal information.\",\n",
    "    \"Can I change my order after placing it?\": \"If you need to change your order, please contact us within one hour of placing it.\",\n",
    "    \"What should I do if I received a damaged item?\": \"Please contact our customer support team within 48 hours for assistance.\",\n",
    "    \"Do you offer gift cards?\": \"Yes, we offer gift cards that can be purchased directly from our website.\",\n",
    "    \"How do I create an account?\": \"To create an account, click on the 'Sign Up' button on our homepage.\",\n",
    "    \"What are your business hours?\": \"Our customer support team is available Monday to Friday, from 9 AM to 5 PM (EST).\",\n",
    "    \"Can I track my order?\": \"Yes, you will receive a tracking number via email once your order has shipped.\",\n",
    "    \"Do you have a loyalty program?\": \"Yes, we have a loyalty program that rewards you for your purchases.\",\n",
    "    \"What happens if an item is out of stock?\": \"You can sign up for notifications on our website for out-of-stock items.\",\n",
    "    \"How do I reset my password?\": \"To reset your password, go to the login page and click on 'Forgot Password?'.\"\n",
    "}\n",
    "\n",
    "app = Flask(__name__)\n",
    "\n",
    "def find_best_match(user_input):\n",
    "    user_tokens = set(word_tokenize(user_input.lower()))\n",
    "    best_match = None\n",
    "    max_overlap = 0\n",
    "\n",
    "    for question in faq_data.keys():\n",
    "        question_tokens = set(word_tokenize(question.lower()))\n",
    "        overlap = len(user_tokens.intersection(question_tokens))\n",
    "        \n",
    "        if overlap > max_overlap:\n",
    "            max_overlap = overlap\n",
    "            best_match = question\n",
    "\n",
    "    return faq_data[best_match] if best_match else \"I'm sorry, I don't have an answer for that.\"\n",
    "\n",
    "@app.route('/ask', methods=['POST'])\n",
    "def ask():\n",
    "    user_input = request.json.get('question')\n",
    "    answer = find_best_match(user_input)\n",
    "    return jsonify({\"answer\": answer})\n",
    "\n",
    "def run_app():\n",
    "    app.run(port=5005)\n",
    "\n",
    "# Start the Flask app in a separate thread\n",
    "thread = threading.Thread(target=run_app)\n",
    "thread.start()\n",
    "\n",
    "\n",
    "\n",
    "import requests\n",
    "\n",
    "url = \"http://127.0.0.1:5000/ask\"\n",
    "\n",
    "questions = [\n",
    "    {\"question\": \"How long does shipping take?\"},\n",
    "    {\"question\": \"Do you ship internationally?\"},\n",
    "    {\"question\": \"What payment methods do you accept?\"},\n",
    "    {\"question\": \"How can I contact customer support?\"},\n",
    "    {\"question\": \"What is your privacy policy?\"},\n",
    "    {\"question\": \"Can I change my order after placing it?\"},\n",
    "    {\"question\": \"What should I do if I received a damaged item?\"},\n",
    "    {\"question\": \"Do you offer gift cards?\"},\n",
    "    {\"question\": \"How do I create an account?\"},\n",
    "    {\"question\": \"What are your business hours?\"},\n",
    "    {\"question\": \"Can I track my order?\"},\n",
    "    {\"question\": \"Do you have a loyalty program?\"},\n",
    "    {\"question\": \"What happens if an item is out of stock?\"},\n",
    "    {\"question\": \"How do I reset my password?\"}\n",
    "]\n",
    "\n",
    "for q in questions:\n",
    "    response = requests.post(url, json=q)\n",
    "    print(f\"Q: {q['question']}\\nA: {response.json()['answer']}\\n\")\n",
    "\n",
    "\n",
    "\n"
   ]
  },
  {
   "cell_type": "code",
   "execution_count": null,
   "id": "4dfa4f8e-62a3-493c-bb9e-1007042306b6",
   "metadata": {},
   "outputs": [],
   "source": []
  }
 ],
 "metadata": {
  "kernelspec": {
   "display_name": "Python 3 (ipykernel)",
   "language": "python",
   "name": "python3"
  },
  "language_info": {
   "codemirror_mode": {
    "name": "ipython",
    "version": 3
   },
   "file_extension": ".py",
   "mimetype": "text/x-python",
   "name": "python",
   "nbconvert_exporter": "python",
   "pygments_lexer": "ipython3",
   "version": "3.12.4"
  }
 },
 "nbformat": 4,
 "nbformat_minor": 5
}
